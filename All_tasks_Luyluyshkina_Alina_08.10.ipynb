{
  "nbformat": 4,
  "nbformat_minor": 0,
  "metadata": {
    "colab": {
      "provenance": []
    },
    "kernelspec": {
      "name": "python3",
      "display_name": "Python 3"
    },
    "language_info": {
      "name": "python"
    }
  },
  "cells": [
    {
      "cell_type": "code",
      "execution_count": 54,
      "metadata": {
        "colab": {
          "base_uri": "https://localhost:8080/"
        },
        "id": "xlY8xj7df0tt",
        "outputId": "de6314ea-ee55-492c-8546-dcc807e125dd"
      },
      "outputs": [
        {
          "output_type": "stream",
          "name": "stdout",
          "text": [
            "(2, 4)\n"
          ]
        }
      ],
      "source": [
        "def two_sum(array, target):\n",
        "  left  = 0\n",
        "  right = len(array) - 1\n",
        "\n",
        "  while (left < right):\n",
        "    sum = array[left] + array[right]\n",
        "    if sum == target:\n",
        "      return left, right\n",
        "    elif sum > target:\n",
        "      right -= 1\n",
        "    else:\n",
        "      left += 1\n",
        "  return None\n",
        "\n",
        "result = two_sum([3, 8, 9 ,11, 16, 18, 19, 21], 25)\n",
        "print (result)\n"
      ]
    },
    {
      "cell_type": "code",
      "source": [
        "def reverse_array(array):\n",
        "  left  = 0\n",
        "  right = len(array) - 1\n",
        "\n",
        "  while left < right:\n",
        "\n",
        "    array[left], array[right] = array[right], array[left]\n",
        "    left += 1\n",
        "    right -= 1\n",
        "\n",
        "  return array\n",
        "\n",
        "result = reverse_array([3, 8, 9 ,11, 16, 18, 19, 21])\n",
        "print (result)\n",
        "\n",
        ""
      ],
      "metadata": {
        "id": "6VYSXzDtgLCy",
        "colab": {
          "base_uri": "https://localhost:8080/"
        },
        "outputId": "669ce05f-97de-4b5f-8567-a92eb490290c"
      },
      "execution_count": 55,
      "outputs": [
        {
          "output_type": "stream",
          "name": "stdout",
          "text": [
            "[21, 19, 18, 16, 11, 9, 8, 3]\n"
          ]
        }
      ]
    },
    {
      "cell_type": "code",
      "source": [
        "def reverse_part_array(array, k):\n",
        "  n = len(array)\n",
        "  array = array[k % (n-1):] + array[:k % (n-1)]\n",
        "  return array\n",
        "\n",
        "result = reverse_part_array([1, 2, 3, 4, 5, 6, 7, 8], 25)\n",
        "print (result)\n",
        "\n",
        "\n"
      ],
      "metadata": {
        "colab": {
          "base_uri": "https://localhost:8080/"
        },
        "id": "vmXxk4RhvcQx",
        "outputId": "ec1c0259-2f1f-469a-b8b4-7fa07bdab0f6"
      },
      "execution_count": 56,
      "outputs": [
        {
          "output_type": "stream",
          "name": "stdout",
          "text": [
            "[5, 6, 7, 8, 1, 2, 3, 4]\n"
          ]
        }
      ]
    },
    {
      "cell_type": "code",
      "source": [
        "def merge_two_array(arr1, arr2):\n",
        "  merged_array = []\n",
        "  i = 0\n",
        "  j = 0\n",
        "\n",
        "  while i < len(arr1) and j < len(arr2):\n",
        "    if arr1[i] < arr2[j]:\n",
        "      merged_array.append(arr1[i])\n",
        "      i += 1\n",
        "    else:\n",
        "      merged_array.append(arr2[j])\n",
        "      j += 1\n",
        "\n",
        "  merged_array.extend(arr1[i:])\n",
        "  merged_array.extend(arr2[j:])\n",
        "\n",
        "  return merged_array\n",
        "\n",
        "result = merge_two_array([-1, 4, 7, 20, 34, 83], [-8, -1, 0, 25])\n",
        "print (result)\n"
      ],
      "metadata": {
        "colab": {
          "base_uri": "https://localhost:8080/"
        },
        "id": "YaRgb0Q80coA",
        "outputId": "f8b4b7a9-3b7a-4390-a1a4-a4bd83f1c9b4"
      },
      "execution_count": 57,
      "outputs": [
        {
          "output_type": "stream",
          "name": "stdout",
          "text": [
            "[-8, -1, -1, 0, 4, 7, 20, 25, 34, 83]\n"
          ]
        }
      ]
    },
    {
      "cell_type": "code",
      "source": [
        "def sorted_array_zero_one(array):\n",
        "  left = 0\n",
        "  right = len(array)-1\n",
        "\n",
        "  while left < right:\n",
        "    if array[left] == 1:\n",
        "      array[left], array[right] = array[right], array[left]\n",
        "      right-=1\n",
        "    else:\n",
        "      left += 1\n",
        "  return array\n",
        "\n",
        "\n",
        "result = sorted_array_zero_one([0, 1, 1, 0, 1, 0, 1, 0])\n",
        "print (result)\n"
      ],
      "metadata": {
        "colab": {
          "base_uri": "https://localhost:8080/"
        },
        "id": "nd9hZDKE51N7",
        "outputId": "3323dda8-6dae-47b8-c1af-f174968608ca"
      },
      "execution_count": 58,
      "outputs": [
        {
          "output_type": "stream",
          "name": "stdout",
          "text": [
            "[0, 0, 0, 0, 1, 1, 1, 1]\n"
          ]
        }
      ]
    },
    {
      "cell_type": "code",
      "source": [
        "def Netherlands (array):\n",
        "  low = 0\n",
        "  mid = 0\n",
        "  hight = len(array)-1\n",
        "\n",
        "  while mid <= hight:\n",
        "    if array[mid] == 0:\n",
        "      array[low], array[mid] = array[mid], array[low]\n",
        "      low += 1\n",
        "      mid += 1\n",
        "    elif array[mid] == 1:\n",
        "      mid +=1\n",
        "    else:\n",
        "      array[mid], array[hight] = array[hight], array[mid]\n",
        "      hight -= 1\n",
        "  return array\n",
        "\n",
        "result = Netherlands([2, 1, 1, 0, 2, 0, 1, 2])\n",
        "print (result)\n",
        "\n",
        "\n"
      ],
      "metadata": {
        "colab": {
          "base_uri": "https://localhost:8080/"
        },
        "id": "tMnLbHYz9X9G",
        "outputId": "b25b3aee-5088-44f9-c6c0-bc8987e61ee7"
      },
      "execution_count": 59,
      "outputs": [
        {
          "output_type": "stream",
          "name": "stdout",
          "text": [
            "[0, 0, 1, 1, 1, 2, 2, 2]\n"
          ]
        }
      ]
    },
    {
      "cell_type": "code",
      "source": [
        "def even_first(array):\n",
        "    even_index = 0\n",
        "\n",
        "    for i in range(len(array)):\n",
        "        if array[i] % 2 == 0:\n",
        "            temp = array[i]\n",
        "            for j in range(i, even_index, -1):\n",
        "                array[j] = array[j - 1]\n",
        "            array[even_index] = temp\n",
        "            even_index += 1\n",
        "\n",
        "    return array\n",
        "\n",
        "result = even_first([3, 2, 4, 1, 11, 8, 9])\n",
        "print(result)"
      ],
      "metadata": {
        "colab": {
          "base_uri": "https://localhost:8080/"
        },
        "id": "yL0DINVe_xO4",
        "outputId": "fa227226-f534-4f35-b7ac-8bd5d936b063"
      },
      "execution_count": 50,
      "outputs": [
        {
          "output_type": "stream",
          "name": "stdout",
          "text": [
            "[2, 4, 8, 3, 1, 11, 9]\n"
          ]
        }
      ]
    },
    {
      "cell_type": "code",
      "source": [
        "def zeros_to_end(grades):\n",
        "    non_zero_index = 0\n",
        "\n",
        "    for i in range(len(grades)):\n",
        "        if grades[i] != 0:\n",
        "            grades[non_zero_index] = grades[i]\n",
        "            non_zero_index += 1\n",
        "\n",
        "    for i in range(non_zero_index, len(grades)):\n",
        "        grades[i] = 0\n",
        "\n",
        "    return grades\n",
        "\n",
        "result = zeros_to_end([5, 0, 3, 0, 8, 0, 10, 7, 0])\n",
        "print(result)"
      ],
      "metadata": {
        "colab": {
          "base_uri": "https://localhost:8080/"
        },
        "id": "8DM_n0saBhVX",
        "outputId": "eb7ee0a0-0e49-4d57-d8ac-34af528b9394"
      },
      "execution_count": 51,
      "outputs": [
        {
          "output_type": "stream",
          "name": "stdout",
          "text": [
            "[5, 3, 8, 10, 7, 0, 0, 0, 0]\n"
          ]
        }
      ]
    }
  ]
}