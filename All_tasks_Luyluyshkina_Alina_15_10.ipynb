{
  "nbformat": 4,
  "nbformat_minor": 0,
  "metadata": {
    "colab": {
      "provenance": []
    },
    "kernelspec": {
      "name": "python3",
      "display_name": "Python 3"
    },
    "language_info": {
      "name": "python"
    }
  },
  "cells": [
    {
      "cell_type": "markdown",
      "source": [
        "Task_1 (Найти цикл в списке)"
      ],
      "metadata": {
        "id": "kSao6SjZe365"
      }
    },
    {
      "cell_type": "code",
      "source": [
        "class ListNode:\n",
        "  def __init__(self, val=0):\n",
        "    self.val = val\n",
        "    self.next= None\n",
        "\n",
        "\n",
        "node1 = ListNode(1)\n",
        "node2 = ListNode(2)\n",
        "node3 = ListNode(3)\n",
        "node4 = ListNode(4)\n",
        "\n",
        "node1.next = node2\n",
        "node2.next = node3\n",
        "node3.next = node4\n",
        "node4.next = None\n"
      ],
      "metadata": {
        "id": "uGuoIMcyjS8c"
      },
      "execution_count": 73,
      "outputs": []
    },
    {
      "cell_type": "code",
      "execution_count": 74,
      "metadata": {
        "colab": {
          "base_uri": "https://localhost:8080/"
        },
        "id": "YvLEhBalUICa",
        "outputId": "5e3d995c-2680-42fe-f399-67f669aa7970"
      },
      "outputs": [
        {
          "output_type": "stream",
          "name": "stdout",
          "text": [
            "False\n"
          ]
        }
      ],
      "source": [
        "def find_cycle(head):\n",
        "\n",
        "  if head == None  or head.next == None:\n",
        "    return False\n",
        "\n",
        "  slow = head\n",
        "  fast = head.next\n",
        "\n",
        "  while slow != fast:\n",
        "    if fast == None or fast.next == None:\n",
        "      return False\n",
        "\n",
        "    slow = slow.next\n",
        "    fast = fast.next.next\n",
        "\n",
        "  return True\n",
        "\n",
        "result = find_cycle(node1)\n",
        "print(result)\n"
      ]
    },
    {
      "cell_type": "markdown",
      "source": [
        "Task_2 (развернуть односвязный список)"
      ],
      "metadata": {
        "id": "lIuZJdKpfDUV"
      }
    },
    {
      "cell_type": "code",
      "source": [
        "def reverse_list(head):\n",
        "  current = head\n",
        "  prev = None\n",
        "\n",
        "  while current != None:\n",
        "    next = current.next\n",
        "    current.next = prev\n",
        "    prev = current\n",
        "    current = next\n",
        "\n",
        "  head = prev\n",
        "  return head"
      ],
      "metadata": {
        "id": "Z4Rf_m6LfJGm"
      },
      "execution_count": 75,
      "outputs": []
    },
    {
      "cell_type": "markdown",
      "source": [
        "Task_3 (Найти середину списка)"
      ],
      "metadata": {
        "id": "SradlfLzlJtV"
      }
    },
    {
      "cell_type": "code",
      "source": [
        "def middle_list(head):\n",
        "  slow = fast = head\n",
        "\n",
        "  while fast != None and fast.next != None:\n",
        "    fast = fast.next.next\n",
        "    slow = slow.next\n",
        "\n",
        "  return slow"
      ],
      "metadata": {
        "id": "9C-8pAx9jQV_"
      },
      "execution_count": 76,
      "outputs": []
    },
    {
      "cell_type": "markdown",
      "source": [
        "Task_4 (Удалить элемент с заданным знаачением из односвязного списка)"
      ],
      "metadata": {
        "id": "QzPNMGPonGCy"
      }
    },
    {
      "cell_type": "code",
      "source": [
        "def remove_elements(head, val):\n",
        "  dummy = ListNode(0)\n",
        "  dummy.next = head\n",
        "  prev = dummy\n",
        "  current = head\n",
        "\n",
        "  while current != None:\n",
        "    if current.val == val:\n",
        "      prev.next = current.next\n",
        "    current = current.next\n",
        "\n",
        "  return dummy.next\n"
      ],
      "metadata": {
        "id": "2HSsz6IBo_bT"
      },
      "execution_count": 77,
      "outputs": []
    },
    {
      "cell_type": "markdown",
      "source": [
        "Task_5 (Является ли одна строка исходной для другой)\n",
        "\n",
        "---\n",
        "\n"
      ],
      "metadata": {
        "id": "qEATISDtrG5e"
      }
    },
    {
      "cell_type": "code",
      "source": [
        "from collections import deque\n",
        "\n",
        "def issubsequence (a, b):\n",
        "  q = deque(a)\n",
        "\n",
        "  for el in b:\n",
        "        if q and q[0] == el:\n",
        "            q.popleft()\n",
        "  return len(q) == 0\n",
        "\n",
        "a = \"axc\"\n",
        "b = \"ahxbgdc\"\n",
        "print(issubsequence(a, b))"
      ],
      "metadata": {
        "colab": {
          "base_uri": "https://localhost:8080/"
        },
        "id": "fNszNHYCrQpN",
        "outputId": "c0bfbaee-5e15-497f-f1f8-a1c419eb7ee0"
      },
      "execution_count": 78,
      "outputs": [
        {
          "output_type": "stream",
          "name": "stdout",
          "text": [
            "True\n"
          ]
        }
      ]
    },
    {
      "cell_type": "markdown",
      "source": [
        "Task_5 (не требует доп памяти)"
      ],
      "metadata": {
        "id": "0AZZ3SRsvnqJ"
      }
    },
    {
      "cell_type": "code",
      "source": [
        "def issubsequence(a, b):\n",
        "    i = j = 0\n",
        "    while i < len(a) and j < len(b):\n",
        "        if a[i] == b[j]:\n",
        "            i += 1\n",
        "        j += 1\n",
        "    return i == len(a)"
      ],
      "metadata": {
        "id": "xlkEpLfyvAGc"
      },
      "execution_count": 79,
      "outputs": []
    },
    {
      "cell_type": "markdown",
      "source": [
        "Tasl_6 (Является ли слово палиндромом)"
      ],
      "metadata": {
        "id": "9XpaKd1MwgAV"
      }
    },
    {
      "cell_type": "code",
      "source": [
        "def palyndrome(s):\n",
        "  stack = []\n",
        "  for char in s:\n",
        "    stack.append(char)\n",
        "\n",
        "  for char in s:\n",
        "    if char!= stack.pop():\n",
        "      return False\n",
        "  return True\n",
        "\n",
        "s = \"заказ\"\n",
        "print(palyndrome(s))"
      ],
      "metadata": {
        "colab": {
          "base_uri": "https://localhost:8080/"
        },
        "id": "_IPlPEggv9sv",
        "outputId": "ad663942-2fa4-4896-d78d-dc81525281d8"
      },
      "execution_count": 80,
      "outputs": [
        {
          "output_type": "stream",
          "name": "stdout",
          "text": [
            "True\n"
          ]
        }
      ]
    },
    {
      "cell_type": "markdown",
      "source": [
        "Task_6 (Метод двух указателей)"
      ],
      "metadata": {
        "id": "zsc9lczK2Lhn"
      }
    },
    {
      "cell_type": "code",
      "source": [
        "def palyndrome_two(s):\n",
        "  left = 0\n",
        "  right =  len(s)-1\n",
        "\n",
        "  while left <= right:\n",
        "    if s[left] != s[right]:\n",
        "      return False\n",
        "    left+=1\n",
        "    right-=1\n",
        "  return True\n",
        "\n",
        "s = \"заказ\"\n",
        "print(palyndrome(s))"
      ],
      "metadata": {
        "colab": {
          "base_uri": "https://localhost:8080/"
        },
        "id": "7LiJbutW2YdS",
        "outputId": "ca933394-5158-4691-e6b0-ab067cee34b3"
      },
      "execution_count": 65,
      "outputs": [
        {
          "output_type": "stream",
          "name": "stdout",
          "text": [
            "True\n"
          ]
        }
      ]
    },
    {
      "cell_type": "markdown",
      "source": [
        "Task_6 (Очередь)"
      ],
      "metadata": {
        "id": "t3ap0Rm94X2K"
      }
    },
    {
      "cell_type": "code",
      "source": [
        "from collections import deque\n",
        "\n",
        "def palindrome_queue(s):\n",
        "    queue = deque()\n",
        "    for char in s:\n",
        "        queue.append(char)\n",
        "\n",
        "    while len(queue) > 1:\n",
        "        first = queue.popleft()\n",
        "        last = queue.pop()\n",
        "\n",
        "        if first != last:\n",
        "            return False\n",
        "\n",
        "    return True"
      ],
      "metadata": {
        "id": "AZMoRtSv4dBf"
      },
      "execution_count": 66,
      "outputs": []
    },
    {
      "cell_type": "markdown",
      "source": [
        "Task_7 (Слияние двух отсортированных списков)"
      ],
      "metadata": {
        "id": "5bUZMLVw4oT3"
      }
    },
    {
      "cell_type": "code",
      "source": [
        "def sorted_list(l1, l2):\n",
        "  dummy = ListNode(0)\n",
        "  current = dummy\n",
        "\n",
        "  while l1 and l2:\n",
        "    if l1.val <= l2.val:\n",
        "      current.next = l1\n",
        "      l1 = l1.next\n",
        "    else:\n",
        "      current.next = l2\n",
        "      l2 = l2.next\n",
        "      current = current.next\n",
        "  current.next = l1 if l1 else l2\n",
        "  return dummy.next\n"
      ],
      "metadata": {
        "id": "BfH_X7yO4xFP"
      },
      "execution_count": 72,
      "outputs": []
    },
    {
      "cell_type": "code",
      "source": [],
      "metadata": {
        "id": "a4Z5NYIi7q6K"
      },
      "execution_count": null,
      "outputs": []
    }
  ]
}